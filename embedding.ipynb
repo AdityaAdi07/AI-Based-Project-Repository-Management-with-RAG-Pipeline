{
 "cells": [
  {
   "cell_type": "code",
   "execution_count": 1,
   "id": "154c1b6e-6ac8-436c-962a-095ffdd4a19c",
   "metadata": {},
   "outputs": [
    {
     "name": "stderr",
     "output_type": "stream",
     "text": [
      "C:\\Users\\sushm\\AppData\\Roaming\\Python\\Python311\\site-packages\\sentence_transformers\\cross_encoder\\CrossEncoder.py:11: TqdmExperimentalWarning: Using `tqdm.autonotebook.tqdm` in notebook mode. Use `tqdm.tqdm` instead to force console mode (e.g. in jupyter console)\n",
      "  from tqdm.autonotebook import tqdm, trange\n"
     ]
    }
   ],
   "source": [
    "# --- Imports ---\n",
    "import json\n",
    "import os\n",
    "from tqdm import tqdm\n",
    "from sentence_transformers import SentenceTransformer"
   ]
  },
  {
   "cell_type": "code",
   "execution_count": 2,
   "id": "b64a952c-d3bd-44c9-adbb-01d195de6316",
   "metadata": {},
   "outputs": [
    {
     "data": {
      "application/vnd.jupyter.widget-view+json": {
       "model_id": "a12b862eed99423da5e0143cebb83597",
       "version_major": 2,
       "version_minor": 0
      },
      "text/plain": [
       "modules.json:   0%|          | 0.00/349 [00:00<?, ?B/s]"
      ]
     },
     "metadata": {},
     "output_type": "display_data"
    },
    {
     "name": "stderr",
     "output_type": "stream",
     "text": [
      "C:\\ProgramData\\anaconda3\\envs\\llms\\Lib\\site-packages\\huggingface_hub\\file_download.py:143: UserWarning: `huggingface_hub` cache-system uses symlinks by default to efficiently store duplicated files but your machine does not support them in C:\\Users\\sushm\\.cache\\huggingface\\hub\\models--BAAI--bge-large-en-v1.5. Caching files will still work but in a degraded version that might require more space on your disk. This warning can be disabled by setting the `HF_HUB_DISABLE_SYMLINKS_WARNING` environment variable. For more details, see https://huggingface.co/docs/huggingface_hub/how-to-cache#limitations.\n",
      "To support symlinks on Windows, you either need to activate Developer Mode or to run Python as an administrator. In order to activate developer mode, see this article: https://docs.microsoft.com/en-us/windows/apps/get-started/enable-your-device-for-development\n",
      "  warnings.warn(message)\n"
     ]
    },
    {
     "data": {
      "application/vnd.jupyter.widget-view+json": {
       "model_id": "431915658fa041a8baf63af3b96fc5e0",
       "version_major": 2,
       "version_minor": 0
      },
      "text/plain": [
       "config_sentence_transformers.json:   0%|          | 0.00/124 [00:00<?, ?B/s]"
      ]
     },
     "metadata": {},
     "output_type": "display_data"
    },
    {
     "data": {
      "application/vnd.jupyter.widget-view+json": {
       "model_id": "d9b56e10b0c64ec18cd6b466ce617aa6",
       "version_major": 2,
       "version_minor": 0
      },
      "text/plain": [
       "README.md: 0.00B [00:00, ?B/s]"
      ]
     },
     "metadata": {},
     "output_type": "display_data"
    },
    {
     "data": {
      "application/vnd.jupyter.widget-view+json": {
       "model_id": "cc2f62c7de884402b99dbc115b43342d",
       "version_major": 2,
       "version_minor": 0
      },
      "text/plain": [
       "sentence_bert_config.json:   0%|          | 0.00/52.0 [00:00<?, ?B/s]"
      ]
     },
     "metadata": {},
     "output_type": "display_data"
    },
    {
     "data": {
      "application/vnd.jupyter.widget-view+json": {
       "model_id": "ff99a6cfa7d34ad2a7abcc1823ef516c",
       "version_major": 2,
       "version_minor": 0
      },
      "text/plain": [
       "config.json:   0%|          | 0.00/779 [00:00<?, ?B/s]"
      ]
     },
     "metadata": {},
     "output_type": "display_data"
    },
    {
     "data": {
      "application/vnd.jupyter.widget-view+json": {
       "model_id": "c35d4a9bbdff4e50b1267c4fd7e57909",
       "version_major": 2,
       "version_minor": 0
      },
      "text/plain": [
       "model.safetensors:   0%|          | 0.00/1.34G [00:00<?, ?B/s]"
      ]
     },
     "metadata": {},
     "output_type": "display_data"
    },
    {
     "data": {
      "application/vnd.jupyter.widget-view+json": {
       "model_id": "76cf04b10664450493405ced88b5119f",
       "version_major": 2,
       "version_minor": 0
      },
      "text/plain": [
       "tokenizer_config.json:   0%|          | 0.00/366 [00:00<?, ?B/s]"
      ]
     },
     "metadata": {},
     "output_type": "display_data"
    },
    {
     "data": {
      "application/vnd.jupyter.widget-view+json": {
       "model_id": "8af1af9433144e4292d53e4b738b9ca3",
       "version_major": 2,
       "version_minor": 0
      },
      "text/plain": [
       "vocab.txt: 0.00B [00:00, ?B/s]"
      ]
     },
     "metadata": {},
     "output_type": "display_data"
    },
    {
     "data": {
      "application/vnd.jupyter.widget-view+json": {
       "model_id": "4fbe36a3a5a74fc7afbc1114796f45e9",
       "version_major": 2,
       "version_minor": 0
      },
      "text/plain": [
       "tokenizer.json: 0.00B [00:00, ?B/s]"
      ]
     },
     "metadata": {},
     "output_type": "display_data"
    },
    {
     "data": {
      "application/vnd.jupyter.widget-view+json": {
       "model_id": "91c2bbc80fc64dfea1989dc3c5d8f3cf",
       "version_major": 2,
       "version_minor": 0
      },
      "text/plain": [
       "special_tokens_map.json:   0%|          | 0.00/125 [00:00<?, ?B/s]"
      ]
     },
     "metadata": {},
     "output_type": "display_data"
    },
    {
     "data": {
      "application/vnd.jupyter.widget-view+json": {
       "model_id": "a0ee90a0bbb246bc8440bc163ec13fab",
       "version_major": 2,
       "version_minor": 0
      },
      "text/plain": [
       "config.json:   0%|          | 0.00/191 [00:00<?, ?B/s]"
      ]
     },
     "metadata": {},
     "output_type": "display_data"
    }
   ],
   "source": [
    "# --- Config ---\n",
    "model_name = \"BAAI/bge-large-en-v1.5\"  # Better quality embedding model\n",
    "model = SentenceTransformer(model_name)"
   ]
  },
  {
   "cell_type": "code",
   "execution_count": 6,
   "id": "3ef18872-b612-47b1-a404-fac409b0b9b8",
   "metadata": {},
   "outputs": [
    {
     "name": "stdout",
     "output_type": "stream",
     "text": [
      "✅ Total projects loaded: 101\n"
     ]
    }
   ],
   "source": [
    "\n",
    "# --- Files to merge ---\n",
    "input_files = [\n",
    "    \"ML-data.json\",\n",
    "    \"CSE-data.json\",\n",
    "    \"cyber-data.json\",\n",
    "    \"extra.json\"]\n",
    "# --- Step 1: Merge all projects ---\n",
    "merged_data = []\n",
    "for file in input_files:\n",
    "    if os.path.exists(file):\n",
    "        with open(file, \"r\", encoding=\"utf-8\") as f:\n",
    "            data = json.load(f)\n",
    "            merged_data.extend(data)\n",
    "    else:\n",
    "        print(f\"⚠️ File not found: {file}\")\n",
    "\n",
    "print(f\"✅ Total projects loaded: {len(merged_data)}\")\n",
    "\n",
    "\n"
   ]
  },
  {
   "cell_type": "code",
   "execution_count": 7,
   "id": "c56273f0-4a6d-4a91-be2b-66641407c970",
   "metadata": {},
   "outputs": [
    {
     "name": "stderr",
     "output_type": "stream",
     "text": [
      "Generating embeddings:   0%|                                                                   | 0/101 [00:00<?, ?it/s]C:\\ProgramData\\anaconda3\\envs\\llms\\Lib\\site-packages\\torch\\nn\\modules\\module.py:1762: FutureWarning: `encoder_attention_mask` is deprecated and will be removed in version 4.55.0 for `BertSdpaSelfAttention.forward`.\n",
      "  return forward_call(*args, **kwargs)\n",
      "Generating embeddings: 100%|█████████████████████████████████████████████████████████| 101/101 [00:05<00:00, 16.94it/s]\n"
     ]
    }
   ],
   "source": [
    "# --- Step 2: Generate embeddings ---\n",
    "embedded_projects = []\n",
    "\n",
    "for project in tqdm(merged_data, desc=\"Generating embeddings\"):\n",
    "    # Combine all important fields into a single text\n",
    "    combined_text = (\n",
    "        f\"Title: {project.get('title', '')}\\n\"\n",
    "        f\"Description: {project.get('description', '')}\\n\"\n",
    "        f\"Objective: {project.get('objective', '')}\\n\"\n",
    "        f\"Tech Stack: {project.get('tech_stack', '')}\\n\"\n",
    "        f\"Domain: {project.get('domain', '')}\"\n",
    "    )\n",
    "    \n",
    "    # Generate embedding\n",
    "    embedding = model.encode(combined_text, show_progress_bar=False).tolist()\n",
    "    \n",
    "    # Attach embedding to project\n",
    "    project[\"embedding\"] = embedding\n",
    "    \n",
    "    embedded_projects.append(project)"
   ]
  },
  {
   "cell_type": "code",
   "execution_count": 8,
   "id": "e1647495-00d5-4b9f-a312-46eb11de26a4",
   "metadata": {},
   "outputs": [
    {
     "name": "stdout",
     "output_type": "stream",
     "text": [
      "✅ Saved unified RAG dataset with embeddings: projects-embedded.json\n"
     ]
    }
   ],
   "source": [
    "# --- Step 3: Save final unified file ---\n",
    "with open(\"projects-embedded.json\", \"w\", encoding=\"utf-8\") as f:\n",
    "    json.dump(embedded_projects, f, indent=2)\n",
    "\n",
    "print(f\"✅ Saved unified RAG dataset with embeddings: projects-embedded.json\")"
   ]
  },
  {
   "cell_type": "code",
   "execution_count": null,
   "id": "220f7b51-0a41-466b-ae25-954bd61b89b3",
   "metadata": {},
   "outputs": [],
   "source": []
  }
 ],
 "metadata": {
  "kernelspec": {
   "display_name": "Python 3 (ipykernel)",
   "language": "python",
   "name": "python3"
  },
  "language_info": {
   "codemirror_mode": {
    "name": "ipython",
    "version": 3
   },
   "file_extension": ".py",
   "mimetype": "text/x-python",
   "name": "python",
   "nbconvert_exporter": "python",
   "pygments_lexer": "ipython3",
   "version": "3.11.13"
  }
 },
 "nbformat": 4,
 "nbformat_minor": 5
}
